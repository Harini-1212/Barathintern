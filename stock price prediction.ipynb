{
 "cells": [
  {
   "cell_type": "code",
   "execution_count": null,
   "id": "dd8ea78d",
   "metadata": {},
   "outputs": [],
   "source": [
    "import pandas as pd"
   ]
  },
  {
   "cell_type": "code",
   "execution_count": null,
   "id": "af721f92",
   "metadata": {},
   "outputs": [],
   "source": [
    "df=pd.read_csv('EW-MAX.xls')"
   ]
  },
  {
   "cell_type": "code",
   "execution_count": null,
   "id": "c1834207",
   "metadata": {},
   "outputs": [],
   "source": [
    "df.head()"
   ]
  },
  {
   "cell_type": "code",
   "execution_count": null,
   "id": "475f0c52",
   "metadata": {},
   "outputs": [],
   "source": [
    "df.tail()"
   ]
  },
  {
   "cell_type": "code",
   "execution_count": null,
   "id": "c12f2a53",
   "metadata": {},
   "outputs": [],
   "source": [
    "df.shape"
   ]
  },
  {
   "cell_type": "code",
   "execution_count": null,
   "id": "42b5bfc2",
   "metadata": {},
   "outputs": [],
   "source": [
    "df.isnull().sum()"
   ]
  },
  {
   "cell_type": "code",
   "execution_count": null,
   "id": "829cbfa6",
   "metadata": {},
   "outputs": [],
   "source": [
    "df.info()"
   ]
  },
  {
   "cell_type": "code",
   "execution_count": null,
   "id": "ea9f0a70",
   "metadata": {},
   "outputs": [],
   "source": [
    "sorted_df = df.sort_values('Volume',ascending=True).head(10)\n",
    "sorted_df"
   ]
  },
  {
   "cell_type": "code",
   "execution_count": null,
   "id": "fbb100f8",
   "metadata": {},
   "outputs": [],
   "source": [
    "sorted_df = df.sort_values(\"High\",ascending=True).head(10)\n",
    "sorted_df"
   ]
  },
  {
   "cell_type": "code",
   "execution_count": null,
   "id": "a9a4012e",
   "metadata": {},
   "outputs": [],
   "source": [
    "df.describe().transpose"
   ]
  },
  {
   "cell_type": "code",
   "execution_count": null,
   "id": "f4a21818",
   "metadata": {},
   "outputs": [],
   "source": [
    "most_volume = df.query('Volume>1500000', inplace = False).sort_values('Volume', ascending = False)\n",
    "most_volume[:10]"
   ]
  },
  {
   "cell_type": "code",
   "execution_count": null,
   "id": "c1782a33",
   "metadata": {},
   "outputs": [],
   "source": [
    "df[[\"High\"]].iloc[18]"
   ]
  },
  {
   "cell_type": "code",
   "execution_count": null,
   "id": "1e6144e9",
   "metadata": {},
   "outputs": [],
   "source": [
    "df[[\"Low\"]].iloc[10]"
   ]
  },
  {
   "cell_type": "code",
   "execution_count": null,
   "id": "d840f313",
   "metadata": {},
   "outputs": [],
   "source": [
    "import seaborn as sns\n",
    "import matplotlib.pyplot as plt"
   ]
  },
  {
   "cell_type": "code",
   "execution_count": null,
   "id": "78daf5c6",
   "metadata": {},
   "outputs": [],
   "source": [
    "sns.countplot(df.Volume)\n",
    "df.xlabel='Volume'\n",
    "df.ylabel='count'"
   ]
  },
  {
   "cell_type": "code",
   "execution_count": null,
   "id": "5015bfa4",
   "metadata": {},
   "outputs": [],
   "source": [
    "sns.histplot(df.High)"
   ]
  },
  {
   "cell_type": "code",
   "execution_count": null,
   "id": "d61e6f7a",
   "metadata": {},
   "outputs": [],
   "source": [
    "sns.boxplot(df.Low)"
   ]
  },
  {
   "cell_type": "code",
   "execution_count": null,
   "id": "85ff6885",
   "metadata": {},
   "outputs": [],
   "source": [
    "sns.violinplot(df.Volume)"
   ]
  },
  {
   "cell_type": "code",
   "execution_count": null,
   "id": "ee594b8a",
   "metadata": {},
   "outputs": [],
   "source": [
    "plt.figure(figsize=(10,6))\n",
    "sns.regplot(data = df, y = \"High\", x =\"Volume\", color = \"b\").set(title = \"High vs Volume\")"
   ]
  },
  {
   "cell_type": "code",
   "execution_count": null,
   "id": "a1cf4ce3",
   "metadata": {},
   "outputs": [],
   "source": [
    "pip install scikit-learn"
   ]
  },
  {
   "cell_type": "code",
   "execution_count": null,
   "id": "f45d491f",
   "metadata": {},
   "outputs": [],
   "source": [
    "import numpy as np # linear algebra\n",
    "import pandas as pd # data processing, CSV file I/O (e.g. pd.read_csv)\n",
    "import matplotlib.pyplot as plt\n",
    "plt.rcParams.update({'font.size': 22})\n",
    "\n",
    "# Input data files are available in the \"../input/\" directory.\n",
    "# For example, running this (by clicking run or pressing Shift+Enter) will list all files under the input directory\n",
    "\n",
    "import os\n",
    "for dirname, _, filenames in os.walk('/kaggle/input'):\n",
    "    for filename in filenames:\n",
    "        print(os.path.join(dirname, filename))\n"
   ]
  },
  {
   "cell_type": "code",
   "execution_count": null,
   "id": "68f08c03",
   "metadata": {},
   "outputs": [],
   "source": [
    "df=df.iloc[1:]\n",
    "df.tail()"
   ]
  },
  {
   "cell_type": "code",
   "execution_count": null,
   "id": "4f68b259",
   "metadata": {},
   "outputs": [],
   "source": [
    "train = df[0:1200]\n",
    "valid = df[1200:]\n",
    "\n",
    "x_train = train.iloc[:,[1,2,3]]\n",
    "y_train = train.iloc[:,4]\n",
    "date_train=train.iloc[:,0]\n",
    "x_valid = valid.iloc[:,[1,2,3]]\n",
    "y_valid = valid.iloc[:,4]\n",
    "date_valid=valid.iloc[:,0]\n",
    "date_train[1200]"
   ]
  },
  {
   "cell_type": "code",
   "execution_count": null,
   "id": "75dd4bd5",
   "metadata": {},
   "outputs": [],
   "source": [
    "plt.rcParams.update({'font.size': 12})\n",
    "fig, ax = plt.subplots(figsize = (8,3))\n",
    "ax.plot(date_train, y_train, color = 'red', marker='', linewidth='0.75')\n",
    "ax.plot(date_valid, y_valid, color = 'blue', marker='', linewidth='0.75')\n",
    "plt.setp(ax.get_xticklabels(), rotation=45)\n",
    "plt.legend(['Training Data', 'Testing Data'], loc='upper left')\n",
    "ax.set(xlabel=\"Date\",\n",
    "       ylabel=\"Close Price\",\n",
    "       title=\"Stock Prices\");\n",
    "plt.show()\n"
   ]
  },
  {
   "cell_type": "code",
   "execution_count": null,
   "id": "89c3232f",
   "metadata": {},
   "outputs": [],
   "source": [
    "from sklearn.linear_model import LinearRegression\n",
    "reg = LinearRegression()\n",
    "reg.fit(x_train,y_train)\n",
    "pred = reg.predict(x_valid)"
   ]
  },
  {
   "cell_type": "code",
   "execution_count": null,
   "id": "aecda939",
   "metadata": {},
   "outputs": [],
   "source": [
    "import math\n",
    "err=[]\n",
    "a=0\n",
    "SUM=0\n",
    "for i in range(1201,1693):\n",
    "    a=y_valid[i]-pred[i-1201]\n",
    "    err.append(a)\n",
    "    SUM = SUM + pow(a,2)\n",
    "(SUM/492)"
   ]
  },
  {
   "cell_type": "code",
   "execution_count": null,
   "id": "2886a97e",
   "metadata": {},
   "outputs": [],
   "source": []
  },
  {
   "cell_type": "code",
   "execution_count": null,
   "id": "7b7f3128",
   "metadata": {},
   "outputs": [],
   "source": []
  }
 ],
 "metadata": {
  "kernelspec": {
   "display_name": "Python 3 (ipykernel)",
   "language": "python",
   "name": "python3"
  },
  "language_info": {
   "codemirror_mode": {
    "name": "ipython",
    "version": 3
   },
   "file_extension": ".py",
   "mimetype": "text/x-python",
   "name": "python",
   "nbconvert_exporter": "python",
   "pygments_lexer": "ipython3",
   "version": "3.10.11"
  }
 },
 "nbformat": 4,
 "nbformat_minor": 5
}

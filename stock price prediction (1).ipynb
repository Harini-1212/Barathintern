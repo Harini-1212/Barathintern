{
 "cells": [
  {
   "cell_type": "code",
   "execution_count": 3,
   "id": "dd8ea78d",
   "metadata": {},
   "outputs": [],
   "source": [
    "import pandas as pd"
   ]
  },
  {
   "cell_type": "code",
   "execution_count": 4,
   "id": "af721f92",
   "metadata": {},
   "outputs": [],
   "source": [
    "df=pd.read_csv('EW-MAX.xls')"
   ]
  },
  {
   "cell_type": "code",
   "execution_count": 5,
   "id": "c1834207",
   "metadata": {},
   "outputs": [
    {
     "data": {
      "text/html": [
       "<div>\n",
       "<style scoped>\n",
       "    .dataframe tbody tr th:only-of-type {\n",
       "        vertical-align: middle;\n",
       "    }\n",
       "\n",
       "    .dataframe tbody tr th {\n",
       "        vertical-align: top;\n",
       "    }\n",
       "\n",
       "    .dataframe thead th {\n",
       "        text-align: right;\n",
       "    }\n",
       "</style>\n",
       "<table border=\"1\" class=\"dataframe\">\n",
       "  <thead>\n",
       "    <tr style=\"text-align: right;\">\n",
       "      <th></th>\n",
       "      <th>Date</th>\n",
       "      <th>Open</th>\n",
       "      <th>High</th>\n",
       "      <th>Low</th>\n",
       "      <th>Close</th>\n",
       "      <th>Adj_Close</th>\n",
       "      <th>Volume</th>\n",
       "    </tr>\n",
       "  </thead>\n",
       "  <tbody>\n",
       "    <tr>\n",
       "      <th>0</th>\n",
       "      <td>2000/3/27</td>\n",
       "      <td>3.812500</td>\n",
       "      <td>4.156250</td>\n",
       "      <td>3.812500</td>\n",
       "      <td>4.125000</td>\n",
       "      <td>4.125000</td>\n",
       "      <td>3675600</td>\n",
       "    </tr>\n",
       "    <tr>\n",
       "      <th>1</th>\n",
       "      <td>2000/3/28</td>\n",
       "      <td>4.125000</td>\n",
       "      <td>4.125000</td>\n",
       "      <td>4.000000</td>\n",
       "      <td>4.015625</td>\n",
       "      <td>4.015625</td>\n",
       "      <td>1077600</td>\n",
       "    </tr>\n",
       "    <tr>\n",
       "      <th>2</th>\n",
       "      <td>2000/3/29</td>\n",
       "      <td>4.000000</td>\n",
       "      <td>4.031250</td>\n",
       "      <td>3.953125</td>\n",
       "      <td>4.000000</td>\n",
       "      <td>4.000000</td>\n",
       "      <td>437200</td>\n",
       "    </tr>\n",
       "    <tr>\n",
       "      <th>3</th>\n",
       "      <td>2000/3/30</td>\n",
       "      <td>4.000000</td>\n",
       "      <td>4.000000</td>\n",
       "      <td>3.843750</td>\n",
       "      <td>3.843750</td>\n",
       "      <td>3.843750</td>\n",
       "      <td>1883600</td>\n",
       "    </tr>\n",
       "    <tr>\n",
       "      <th>4</th>\n",
       "      <td>2000/3/31</td>\n",
       "      <td>3.734375</td>\n",
       "      <td>3.734375</td>\n",
       "      <td>3.390625</td>\n",
       "      <td>3.390625</td>\n",
       "      <td>3.390625</td>\n",
       "      <td>7931600</td>\n",
       "    </tr>\n",
       "  </tbody>\n",
       "</table>\n",
       "</div>"
      ],
      "text/plain": [
       "        Date      Open      High       Low     Close  Adj_Close   Volume\n",
       "0  2000/3/27  3.812500  4.156250  3.812500  4.125000   4.125000  3675600\n",
       "1  2000/3/28  4.125000  4.125000  4.000000  4.015625   4.015625  1077600\n",
       "2  2000/3/29  4.000000  4.031250  3.953125  4.000000   4.000000   437200\n",
       "3  2000/3/30  4.000000  4.000000  3.843750  3.843750   3.843750  1883600\n",
       "4  2000/3/31  3.734375  3.734375  3.390625  3.390625   3.390625  7931600"
      ]
     },
     "execution_count": 5,
     "metadata": {},
     "output_type": "execute_result"
    }
   ],
   "source": [
    "df.head()"
   ]
  },
  {
   "cell_type": "code",
   "execution_count": 6,
   "id": "475f0c52",
   "metadata": {},
   "outputs": [
    {
     "data": {
      "text/html": [
       "<div>\n",
       "<style scoped>\n",
       "    .dataframe tbody tr th:only-of-type {\n",
       "        vertical-align: middle;\n",
       "    }\n",
       "\n",
       "    .dataframe tbody tr th {\n",
       "        vertical-align: top;\n",
       "    }\n",
       "\n",
       "    .dataframe thead th {\n",
       "        text-align: right;\n",
       "    }\n",
       "</style>\n",
       "<table border=\"1\" class=\"dataframe\">\n",
       "  <thead>\n",
       "    <tr style=\"text-align: right;\">\n",
       "      <th></th>\n",
       "      <th>Date</th>\n",
       "      <th>Open</th>\n",
       "      <th>High</th>\n",
       "      <th>Low</th>\n",
       "      <th>Close</th>\n",
       "      <th>Adj_Close</th>\n",
       "      <th>Volume</th>\n",
       "    </tr>\n",
       "  </thead>\n",
       "  <tbody>\n",
       "    <tr>\n",
       "      <th>4387</th>\n",
       "      <td>2017/9/1</td>\n",
       "      <td>113.790001</td>\n",
       "      <td>114.099998</td>\n",
       "      <td>112.790001</td>\n",
       "      <td>113.309998</td>\n",
       "      <td>113.309998</td>\n",
       "      <td>950000</td>\n",
       "    </tr>\n",
       "    <tr>\n",
       "      <th>4388</th>\n",
       "      <td>2017/9/5</td>\n",
       "      <td>112.519997</td>\n",
       "      <td>113.529999</td>\n",
       "      <td>111.160004</td>\n",
       "      <td>111.870003</td>\n",
       "      <td>111.870003</td>\n",
       "      <td>1805200</td>\n",
       "    </tr>\n",
       "    <tr>\n",
       "      <th>4389</th>\n",
       "      <td>2017/9/6</td>\n",
       "      <td>112.029999</td>\n",
       "      <td>112.489998</td>\n",
       "      <td>110.250000</td>\n",
       "      <td>112.230003</td>\n",
       "      <td>112.230003</td>\n",
       "      <td>2136700</td>\n",
       "    </tr>\n",
       "    <tr>\n",
       "      <th>4390</th>\n",
       "      <td>2017/9/7</td>\n",
       "      <td>112.459999</td>\n",
       "      <td>112.900002</td>\n",
       "      <td>112.000000</td>\n",
       "      <td>112.339996</td>\n",
       "      <td>112.339996</td>\n",
       "      <td>1251600</td>\n",
       "    </tr>\n",
       "    <tr>\n",
       "      <th>4391</th>\n",
       "      <td>2017/9/8</td>\n",
       "      <td>112.300003</td>\n",
       "      <td>114.790001</td>\n",
       "      <td>112.010002</td>\n",
       "      <td>113.190002</td>\n",
       "      <td>113.190002</td>\n",
       "      <td>1611700</td>\n",
       "    </tr>\n",
       "  </tbody>\n",
       "</table>\n",
       "</div>"
      ],
      "text/plain": [
       "          Date        Open        High         Low       Close   Adj_Close  \\\n",
       "4387  2017/9/1  113.790001  114.099998  112.790001  113.309998  113.309998   \n",
       "4388  2017/9/5  112.519997  113.529999  111.160004  111.870003  111.870003   \n",
       "4389  2017/9/6  112.029999  112.489998  110.250000  112.230003  112.230003   \n",
       "4390  2017/9/7  112.459999  112.900002  112.000000  112.339996  112.339996   \n",
       "4391  2017/9/8  112.300003  114.790001  112.010002  113.190002  113.190002   \n",
       "\n",
       "       Volume  \n",
       "4387   950000  \n",
       "4388  1805200  \n",
       "4389  2136700  \n",
       "4390  1251600  \n",
       "4391  1611700  "
      ]
     },
     "execution_count": 6,
     "metadata": {},
     "output_type": "execute_result"
    }
   ],
   "source": [
    "df.tail()"
   ]
  },
  {
   "cell_type": "code",
   "execution_count": 7,
   "id": "c12f2a53",
   "metadata": {},
   "outputs": [
    {
     "data": {
      "text/plain": [
       "(4392, 7)"
      ]
     },
     "execution_count": 7,
     "metadata": {},
     "output_type": "execute_result"
    }
   ],
   "source": [
    "df.shape"
   ]
  },
  {
   "cell_type": "code",
   "execution_count": 8,
   "id": "42b5bfc2",
   "metadata": {},
   "outputs": [
    {
     "data": {
      "text/plain": [
       "Date         0\n",
       "Open         0\n",
       "High         0\n",
       "Low          0\n",
       "Close        0\n",
       "Adj_Close    0\n",
       "Volume       0\n",
       "dtype: int64"
      ]
     },
     "execution_count": 8,
     "metadata": {},
     "output_type": "execute_result"
    }
   ],
   "source": [
    "df.isnull().sum()"
   ]
  },
  {
   "cell_type": "code",
   "execution_count": 9,
   "id": "829cbfa6",
   "metadata": {},
   "outputs": [
    {
     "name": "stdout",
     "output_type": "stream",
     "text": [
      "<class 'pandas.core.frame.DataFrame'>\n",
      "RangeIndex: 4392 entries, 0 to 4391\n",
      "Data columns (total 7 columns):\n",
      " #   Column     Non-Null Count  Dtype  \n",
      "---  ------     --------------  -----  \n",
      " 0   Date       4392 non-null   object \n",
      " 1   Open       4392 non-null   float64\n",
      " 2   High       4392 non-null   float64\n",
      " 3   Low        4392 non-null   float64\n",
      " 4   Close      4392 non-null   float64\n",
      " 5   Adj_Close  4392 non-null   float64\n",
      " 6   Volume     4392 non-null   int64  \n",
      "dtypes: float64(5), int64(1), object(1)\n",
      "memory usage: 240.3+ KB\n"
     ]
    }
   ],
   "source": [
    "df.info()"
   ]
  },
  {
   "cell_type": "code",
   "execution_count": 10,
   "id": "ea9f0a70",
   "metadata": {},
   "outputs": [
    {
     "data": {
      "text/html": [
       "<div>\n",
       "<style scoped>\n",
       "    .dataframe tbody tr th:only-of-type {\n",
       "        vertical-align: middle;\n",
       "    }\n",
       "\n",
       "    .dataframe tbody tr th {\n",
       "        vertical-align: top;\n",
       "    }\n",
       "\n",
       "    .dataframe thead th {\n",
       "        text-align: right;\n",
       "    }\n",
       "</style>\n",
       "<table border=\"1\" class=\"dataframe\">\n",
       "  <thead>\n",
       "    <tr style=\"text-align: right;\">\n",
       "      <th></th>\n",
       "      <th>Date</th>\n",
       "      <th>Open</th>\n",
       "      <th>High</th>\n",
       "      <th>Low</th>\n",
       "      <th>Close</th>\n",
       "      <th>Adj_Close</th>\n",
       "      <th>Volume</th>\n",
       "    </tr>\n",
       "  </thead>\n",
       "  <tbody>\n",
       "    <tr>\n",
       "      <th>1425</th>\n",
       "      <td>2005/11/25</td>\n",
       "      <td>10.275000</td>\n",
       "      <td>10.352500</td>\n",
       "      <td>10.260000</td>\n",
       "      <td>10.325000</td>\n",
       "      <td>10.325000</td>\n",
       "      <td>190400</td>\n",
       "    </tr>\n",
       "    <tr>\n",
       "      <th>104</th>\n",
       "      <td>2000/8/23</td>\n",
       "      <td>5.718750</td>\n",
       "      <td>5.734375</td>\n",
       "      <td>5.640625</td>\n",
       "      <td>5.718750</td>\n",
       "      <td>5.718750</td>\n",
       "      <td>220000</td>\n",
       "    </tr>\n",
       "    <tr>\n",
       "      <th>93</th>\n",
       "      <td>2000/8/8</td>\n",
       "      <td>5.671875</td>\n",
       "      <td>5.687500</td>\n",
       "      <td>5.500000</td>\n",
       "      <td>5.625000</td>\n",
       "      <td>5.625000</td>\n",
       "      <td>224000</td>\n",
       "    </tr>\n",
       "    <tr>\n",
       "      <th>923</th>\n",
       "      <td>2003/11/28</td>\n",
       "      <td>7.500000</td>\n",
       "      <td>7.582500</td>\n",
       "      <td>7.477500</td>\n",
       "      <td>7.530000</td>\n",
       "      <td>7.530000</td>\n",
       "      <td>224800</td>\n",
       "    </tr>\n",
       "    <tr>\n",
       "      <th>1926</th>\n",
       "      <td>2007/11/23</td>\n",
       "      <td>12.282500</td>\n",
       "      <td>12.462500</td>\n",
       "      <td>12.257500</td>\n",
       "      <td>12.422500</td>\n",
       "      <td>12.422500</td>\n",
       "      <td>225600</td>\n",
       "    </tr>\n",
       "    <tr>\n",
       "      <th>320</th>\n",
       "      <td>2001/7/3</td>\n",
       "      <td>6.587500</td>\n",
       "      <td>6.637500</td>\n",
       "      <td>6.562500</td>\n",
       "      <td>6.562500</td>\n",
       "      <td>6.562500</td>\n",
       "      <td>226000</td>\n",
       "    </tr>\n",
       "    <tr>\n",
       "      <th>322</th>\n",
       "      <td>2001/7/6</td>\n",
       "      <td>6.535000</td>\n",
       "      <td>6.535000</td>\n",
       "      <td>6.370000</td>\n",
       "      <td>6.370000</td>\n",
       "      <td>6.370000</td>\n",
       "      <td>246400</td>\n",
       "    </tr>\n",
       "    <tr>\n",
       "      <th>150</th>\n",
       "      <td>2000/10/27</td>\n",
       "      <td>5.828125</td>\n",
       "      <td>5.875000</td>\n",
       "      <td>5.750000</td>\n",
       "      <td>5.750000</td>\n",
       "      <td>5.750000</td>\n",
       "      <td>262000</td>\n",
       "    </tr>\n",
       "    <tr>\n",
       "      <th>942</th>\n",
       "      <td>2003/12/26</td>\n",
       "      <td>7.450000</td>\n",
       "      <td>7.500000</td>\n",
       "      <td>7.425000</td>\n",
       "      <td>7.472500</td>\n",
       "      <td>7.472500</td>\n",
       "      <td>263600</td>\n",
       "    </tr>\n",
       "    <tr>\n",
       "      <th>116</th>\n",
       "      <td>2000/9/11</td>\n",
       "      <td>5.593750</td>\n",
       "      <td>5.593750</td>\n",
       "      <td>5.531250</td>\n",
       "      <td>5.578125</td>\n",
       "      <td>5.578125</td>\n",
       "      <td>264400</td>\n",
       "    </tr>\n",
       "  </tbody>\n",
       "</table>\n",
       "</div>"
      ],
      "text/plain": [
       "            Date       Open       High        Low      Close  Adj_Close  \\\n",
       "1425  2005/11/25  10.275000  10.352500  10.260000  10.325000  10.325000   \n",
       "104    2000/8/23   5.718750   5.734375   5.640625   5.718750   5.718750   \n",
       "93      2000/8/8   5.671875   5.687500   5.500000   5.625000   5.625000   \n",
       "923   2003/11/28   7.500000   7.582500   7.477500   7.530000   7.530000   \n",
       "1926  2007/11/23  12.282500  12.462500  12.257500  12.422500  12.422500   \n",
       "320     2001/7/3   6.587500   6.637500   6.562500   6.562500   6.562500   \n",
       "322     2001/7/6   6.535000   6.535000   6.370000   6.370000   6.370000   \n",
       "150   2000/10/27   5.828125   5.875000   5.750000   5.750000   5.750000   \n",
       "942   2003/12/26   7.450000   7.500000   7.425000   7.472500   7.472500   \n",
       "116    2000/9/11   5.593750   5.593750   5.531250   5.578125   5.578125   \n",
       "\n",
       "      Volume  \n",
       "1425  190400  \n",
       "104   220000  \n",
       "93    224000  \n",
       "923   224800  \n",
       "1926  225600  \n",
       "320   226000  \n",
       "322   246400  \n",
       "150   262000  \n",
       "942   263600  \n",
       "116   264400  "
      ]
     },
     "execution_count": 10,
     "metadata": {},
     "output_type": "execute_result"
    }
   ],
   "source": [
    "sorted_df = df.sort_values('Volume',ascending=True).head(10)\n",
    "sorted_df"
   ]
  },
  {
   "cell_type": "code",
   "execution_count": 11,
   "id": "fbb100f8",
   "metadata": {},
   "outputs": [
    {
     "data": {
      "text/html": [
       "<div>\n",
       "<style scoped>\n",
       "    .dataframe tbody tr th:only-of-type {\n",
       "        vertical-align: middle;\n",
       "    }\n",
       "\n",
       "    .dataframe tbody tr th {\n",
       "        vertical-align: top;\n",
       "    }\n",
       "\n",
       "    .dataframe thead th {\n",
       "        text-align: right;\n",
       "    }\n",
       "</style>\n",
       "<table border=\"1\" class=\"dataframe\">\n",
       "  <thead>\n",
       "    <tr style=\"text-align: right;\">\n",
       "      <th></th>\n",
       "      <th>Date</th>\n",
       "      <th>Open</th>\n",
       "      <th>High</th>\n",
       "      <th>Low</th>\n",
       "      <th>Close</th>\n",
       "      <th>Adj_Close</th>\n",
       "      <th>Volume</th>\n",
       "    </tr>\n",
       "  </thead>\n",
       "  <tbody>\n",
       "    <tr>\n",
       "      <th>153</th>\n",
       "      <td>2000/11/1</td>\n",
       "      <td>3.375000</td>\n",
       "      <td>3.390625</td>\n",
       "      <td>3.000000</td>\n",
       "      <td>3.250000</td>\n",
       "      <td>3.250000</td>\n",
       "      <td>19073200</td>\n",
       "    </tr>\n",
       "    <tr>\n",
       "      <th>154</th>\n",
       "      <td>2000/11/2</td>\n",
       "      <td>3.296875</td>\n",
       "      <td>3.562500</td>\n",
       "      <td>3.265625</td>\n",
       "      <td>3.546875</td>\n",
       "      <td>3.546875</td>\n",
       "      <td>3819600</td>\n",
       "    </tr>\n",
       "    <tr>\n",
       "      <th>7</th>\n",
       "      <td>2000/4/5</td>\n",
       "      <td>3.468750</td>\n",
       "      <td>3.562500</td>\n",
       "      <td>3.453125</td>\n",
       "      <td>3.484375</td>\n",
       "      <td>3.484375</td>\n",
       "      <td>6349600</td>\n",
       "    </tr>\n",
       "    <tr>\n",
       "      <th>166</th>\n",
       "      <td>2000/11/20</td>\n",
       "      <td>3.578125</td>\n",
       "      <td>3.578125</td>\n",
       "      <td>3.390625</td>\n",
       "      <td>3.437500</td>\n",
       "      <td>3.437500</td>\n",
       "      <td>530800</td>\n",
       "    </tr>\n",
       "    <tr>\n",
       "      <th>6</th>\n",
       "      <td>2000/4/4</td>\n",
       "      <td>3.531250</td>\n",
       "      <td>3.578125</td>\n",
       "      <td>3.093750</td>\n",
       "      <td>3.500000</td>\n",
       "      <td>3.500000</td>\n",
       "      <td>13136800</td>\n",
       "    </tr>\n",
       "    <tr>\n",
       "      <th>8</th>\n",
       "      <td>2000/4/6</td>\n",
       "      <td>3.500000</td>\n",
       "      <td>3.593750</td>\n",
       "      <td>3.468750</td>\n",
       "      <td>3.578125</td>\n",
       "      <td>3.578125</td>\n",
       "      <td>7181200</td>\n",
       "    </tr>\n",
       "    <tr>\n",
       "      <th>165</th>\n",
       "      <td>2000/11/17</td>\n",
       "      <td>3.609375</td>\n",
       "      <td>3.609375</td>\n",
       "      <td>3.390625</td>\n",
       "      <td>3.546875</td>\n",
       "      <td>3.546875</td>\n",
       "      <td>1190000</td>\n",
       "    </tr>\n",
       "    <tr>\n",
       "      <th>15</th>\n",
       "      <td>2000/4/17</td>\n",
       "      <td>3.578125</td>\n",
       "      <td>3.609375</td>\n",
       "      <td>3.515625</td>\n",
       "      <td>3.562500</td>\n",
       "      <td>3.562500</td>\n",
       "      <td>2992000</td>\n",
       "    </tr>\n",
       "    <tr>\n",
       "      <th>16</th>\n",
       "      <td>2000/4/18</td>\n",
       "      <td>3.609375</td>\n",
       "      <td>3.625000</td>\n",
       "      <td>3.484375</td>\n",
       "      <td>3.515625</td>\n",
       "      <td>3.515625</td>\n",
       "      <td>2896000</td>\n",
       "    </tr>\n",
       "    <tr>\n",
       "      <th>14</th>\n",
       "      <td>2000/4/14</td>\n",
       "      <td>3.609375</td>\n",
       "      <td>3.625000</td>\n",
       "      <td>3.531250</td>\n",
       "      <td>3.609375</td>\n",
       "      <td>3.609375</td>\n",
       "      <td>2626000</td>\n",
       "    </tr>\n",
       "  </tbody>\n",
       "</table>\n",
       "</div>"
      ],
      "text/plain": [
       "           Date      Open      High       Low     Close  Adj_Close    Volume\n",
       "153   2000/11/1  3.375000  3.390625  3.000000  3.250000   3.250000  19073200\n",
       "154   2000/11/2  3.296875  3.562500  3.265625  3.546875   3.546875   3819600\n",
       "7      2000/4/5  3.468750  3.562500  3.453125  3.484375   3.484375   6349600\n",
       "166  2000/11/20  3.578125  3.578125  3.390625  3.437500   3.437500    530800\n",
       "6      2000/4/4  3.531250  3.578125  3.093750  3.500000   3.500000  13136800\n",
       "8      2000/4/6  3.500000  3.593750  3.468750  3.578125   3.578125   7181200\n",
       "165  2000/11/17  3.609375  3.609375  3.390625  3.546875   3.546875   1190000\n",
       "15    2000/4/17  3.578125  3.609375  3.515625  3.562500   3.562500   2992000\n",
       "16    2000/4/18  3.609375  3.625000  3.484375  3.515625   3.515625   2896000\n",
       "14    2000/4/14  3.609375  3.625000  3.531250  3.609375   3.609375   2626000"
      ]
     },
     "execution_count": 11,
     "metadata": {},
     "output_type": "execute_result"
    }
   ],
   "source": [
    "sorted_df = df.sort_values(\"High\",ascending=True).head(10)\n",
    "sorted_df"
   ]
  },
  {
   "cell_type": "code",
   "execution_count": 12,
   "id": "a9a4012e",
   "metadata": {},
   "outputs": [
    {
     "data": {
      "text/plain": [
       "<bound method DataFrame.transpose of               Open         High          Low        Close    Adj_Close  \\\n",
       "count  4392.000000  4392.000000  4392.000000  4392.000000  4392.000000   \n",
       "mean     30.562539    30.893618    30.238833    30.572580    30.572580   \n",
       "std      29.914758    30.210974    29.615761    29.905778    29.905778   \n",
       "min       3.296875     3.390625     3.000000     3.250000     3.250000   \n",
       "25%       8.718125     8.803125     8.625000     8.712500     8.712500   \n",
       "50%      14.766250    14.981250    14.662500    14.767500    14.767500   \n",
       "75%      42.546248    43.051249    42.086249    42.539999    42.539999   \n",
       "max     121.080002   121.750000   120.169998   121.360001   121.360001   \n",
       "\n",
       "             Volume  \n",
       "count  4.392000e+03  \n",
       "mean   1.884027e+06  \n",
       "std    1.621609e+06  \n",
       "min    1.904000e+05  \n",
       "25%    1.088800e+06  \n",
       "50%    1.539300e+06  \n",
       "75%    2.188900e+06  \n",
       "max    4.641260e+07  >"
      ]
     },
     "execution_count": 12,
     "metadata": {},
     "output_type": "execute_result"
    }
   ],
   "source": [
    "df.describe().transpose"
   ]
  },
  {
   "cell_type": "code",
   "execution_count": 13,
   "id": "f4a21818",
   "metadata": {},
   "outputs": [
    {
     "data": {
      "text/html": [
       "<div>\n",
       "<style scoped>\n",
       "    .dataframe tbody tr th:only-of-type {\n",
       "        vertical-align: middle;\n",
       "    }\n",
       "\n",
       "    .dataframe tbody tr th {\n",
       "        vertical-align: top;\n",
       "    }\n",
       "\n",
       "    .dataframe thead th {\n",
       "        text-align: right;\n",
       "    }\n",
       "</style>\n",
       "<table border=\"1\" class=\"dataframe\">\n",
       "  <thead>\n",
       "    <tr style=\"text-align: right;\">\n",
       "      <th></th>\n",
       "      <th>Date</th>\n",
       "      <th>Open</th>\n",
       "      <th>High</th>\n",
       "      <th>Low</th>\n",
       "      <th>Close</th>\n",
       "      <th>Adj_Close</th>\n",
       "      <th>Volume</th>\n",
       "    </tr>\n",
       "  </thead>\n",
       "  <tbody>\n",
       "    <tr>\n",
       "      <th>2770</th>\n",
       "      <td>2011/3/31</td>\n",
       "      <td>44.005001</td>\n",
       "      <td>44.095001</td>\n",
       "      <td>43.360001</td>\n",
       "      <td>43.500000</td>\n",
       "      <td>43.500000</td>\n",
       "      <td>46412600</td>\n",
       "    </tr>\n",
       "    <tr>\n",
       "      <th>2103</th>\n",
       "      <td>2008/8/7</td>\n",
       "      <td>14.082500</td>\n",
       "      <td>14.547500</td>\n",
       "      <td>13.437500</td>\n",
       "      <td>14.460000</td>\n",
       "      <td>14.460000</td>\n",
       "      <td>23767600</td>\n",
       "    </tr>\n",
       "    <tr>\n",
       "      <th>3288</th>\n",
       "      <td>2013/4/24</td>\n",
       "      <td>33.275002</td>\n",
       "      <td>33.299999</td>\n",
       "      <td>31.750000</td>\n",
       "      <td>32.299999</td>\n",
       "      <td>32.299999</td>\n",
       "      <td>22986800</td>\n",
       "    </tr>\n",
       "    <tr>\n",
       "      <th>153</th>\n",
       "      <td>2000/11/1</td>\n",
       "      <td>3.375000</td>\n",
       "      <td>3.390625</td>\n",
       "      <td>3.000000</td>\n",
       "      <td>3.250000</td>\n",
       "      <td>3.250000</td>\n",
       "      <td>19073200</td>\n",
       "    </tr>\n",
       "    <tr>\n",
       "      <th>152</th>\n",
       "      <td>2000/10/31</td>\n",
       "      <td>3.812500</td>\n",
       "      <td>4.000000</td>\n",
       "      <td>3.343750</td>\n",
       "      <td>3.359375</td>\n",
       "      <td>3.359375</td>\n",
       "      <td>17944400</td>\n",
       "    </tr>\n",
       "    <tr>\n",
       "      <th>3155</th>\n",
       "      <td>2012/10/9</td>\n",
       "      <td>44.779999</td>\n",
       "      <td>44.794998</td>\n",
       "      <td>42.285000</td>\n",
       "      <td>42.299999</td>\n",
       "      <td>42.299999</td>\n",
       "      <td>17734800</td>\n",
       "    </tr>\n",
       "    <tr>\n",
       "      <th>833</th>\n",
       "      <td>2003/7/23</td>\n",
       "      <td>8.000000</td>\n",
       "      <td>8.000000</td>\n",
       "      <td>6.675000</td>\n",
       "      <td>6.875000</td>\n",
       "      <td>6.875000</td>\n",
       "      <td>16833200</td>\n",
       "    </tr>\n",
       "    <tr>\n",
       "      <th>4173</th>\n",
       "      <td>2016/10/26</td>\n",
       "      <td>99.300003</td>\n",
       "      <td>100.860001</td>\n",
       "      <td>94.250000</td>\n",
       "      <td>94.250000</td>\n",
       "      <td>94.250000</td>\n",
       "      <td>16796600</td>\n",
       "    </tr>\n",
       "    <tr>\n",
       "      <th>3533</th>\n",
       "      <td>2014/4/14</td>\n",
       "      <td>40.965000</td>\n",
       "      <td>42.200001</td>\n",
       "      <td>40.365002</td>\n",
       "      <td>40.500000</td>\n",
       "      <td>40.500000</td>\n",
       "      <td>14450200</td>\n",
       "    </tr>\n",
       "    <tr>\n",
       "      <th>9</th>\n",
       "      <td>2000/4/7</td>\n",
       "      <td>3.593750</td>\n",
       "      <td>3.812500</td>\n",
       "      <td>3.593750</td>\n",
       "      <td>3.609375</td>\n",
       "      <td>3.609375</td>\n",
       "      <td>13904800</td>\n",
       "    </tr>\n",
       "  </tbody>\n",
       "</table>\n",
       "</div>"
      ],
      "text/plain": [
       "            Date       Open        High        Low      Close  Adj_Close  \\\n",
       "2770   2011/3/31  44.005001   44.095001  43.360001  43.500000  43.500000   \n",
       "2103    2008/8/7  14.082500   14.547500  13.437500  14.460000  14.460000   \n",
       "3288   2013/4/24  33.275002   33.299999  31.750000  32.299999  32.299999   \n",
       "153    2000/11/1   3.375000    3.390625   3.000000   3.250000   3.250000   \n",
       "152   2000/10/31   3.812500    4.000000   3.343750   3.359375   3.359375   \n",
       "3155   2012/10/9  44.779999   44.794998  42.285000  42.299999  42.299999   \n",
       "833    2003/7/23   8.000000    8.000000   6.675000   6.875000   6.875000   \n",
       "4173  2016/10/26  99.300003  100.860001  94.250000  94.250000  94.250000   \n",
       "3533   2014/4/14  40.965000   42.200001  40.365002  40.500000  40.500000   \n",
       "9       2000/4/7   3.593750    3.812500   3.593750   3.609375   3.609375   \n",
       "\n",
       "        Volume  \n",
       "2770  46412600  \n",
       "2103  23767600  \n",
       "3288  22986800  \n",
       "153   19073200  \n",
       "152   17944400  \n",
       "3155  17734800  \n",
       "833   16833200  \n",
       "4173  16796600  \n",
       "3533  14450200  \n",
       "9     13904800  "
      ]
     },
     "execution_count": 13,
     "metadata": {},
     "output_type": "execute_result"
    }
   ],
   "source": [
    "most_volume = df.query('Volume>1500000', inplace = False).sort_values('Volume', ascending = False)\n",
    "most_volume[:10]"
   ]
  },
  {
   "cell_type": "code",
   "execution_count": 14,
   "id": "c1782a33",
   "metadata": {},
   "outputs": [
    {
     "data": {
      "text/plain": [
       "High    3.6875\n",
       "Name: 18, dtype: float64"
      ]
     },
     "execution_count": 14,
     "metadata": {},
     "output_type": "execute_result"
    }
   ],
   "source": [
    "df[[\"High\"]].iloc[18]"
   ]
  },
  {
   "cell_type": "code",
   "execution_count": 15,
   "id": "1e6144e9",
   "metadata": {},
   "outputs": [
    {
     "data": {
      "text/plain": [
       "Low    3.625\n",
       "Name: 10, dtype: float64"
      ]
     },
     "execution_count": 15,
     "metadata": {},
     "output_type": "execute_result"
    }
   ],
   "source": [
    "df[[\"Low\"]].iloc[10]"
   ]
  },
  {
   "cell_type": "code",
   "execution_count": 16,
   "id": "d840f313",
   "metadata": {},
   "outputs": [],
   "source": [
    "import seaborn as sns\n",
    "import matplotlib.pyplot as plt"
   ]
  },
  {
   "cell_type": "code",
   "execution_count": 17,
   "id": "78daf5c6",
   "metadata": {},
   "outputs": [
    {
     "data": {
      "image/png": "[encoded data removed]",
      "text/plain": [
       "<Figure size 640x480 with 1 Axes>"
      ]
     },
     "metadata": {},
     "output_type": "display_data"
    }
   ],
   "source": [
    "sns.countplot(df.Volume)\n",
    "df.xlabel='Volume'\n",
    "df.ylabel='count'"
   ]
  },
  {
   "cell_type": "code",
   "execution_count": 18,
   "id": "5015bfa4",
   "metadata": {},
   "outputs": [
    {
     "data": {
      "text/plain": [
       "<Axes: xlabel='High', ylabel='Count'>"
      ]
     },
     "execution_count": 18,
     "metadata": {},
     "output_type": "execute_result"
    },
    {
     "data": {
      "image/png": "[encoded data removed]",
      "text/plain": [
       "<Figure size 640x480 with 1 Axes>"
      ]
     },
     "metadata": {},
     "output_type": "display_data"
    }
   ],
   "source": [
    "sns.histplot(df.High)"
   ]
  },
  {
   "cell_type": "code",
   "execution_count": 19,
   "id": "d61e6f7a",
   "metadata": {},
   "outputs": [
    {
     "data": {
      "text/plain": [
       "<Axes: >"
      ]
     },
     "execution_count": 19,
     "metadata": {},
     "output_type": "execute_result"
    },
    {
     "data": {
      "image/png": "[encoded data removed]",
      "text/plain": [
       "<Figure size 640x480 with 1 Axes>"
      ]
     },
     "metadata": {},
     "output_type": "display_data"
    }
   ],
   "source": [
    "sns.boxplot(df.Low)"
   ]
  },
  {
   "cell_type": "code",
   "execution_count": 20,
   "id": "85ff6885",
   "metadata": {},
   "outputs": [
    {
     "data": {
      "text/plain": [
       "<Axes: >"
      ]
     },
     "execution_count": 20,
     "metadata": {},
     "output_type": "execute_result"
    },
    {
     "data": {
      "image/png": "[encoded data removed]",
      "text/plain": [
       "<Figure size 640x480 with 1 Axes>"
      ]
     },
     "metadata": {},
     "output_type": "display_data"
    }
   ],
   "source": [
    "sns.violinplot(df.Volume)"
   ]
  },
  {
   "cell_type": "code",
   "execution_count": 21,
   "id": "ee594b8a",
   "metadata": {},
   "outputs": [
    {
     "data": {
      "text/plain": [
       "[Text(0.5, 1.0, 'High vs Volume')]"
      ]
     },
     "execution_count": 21,
     "metadata": {},
     "output_type": "execute_result"
    },
    {
     "data": {
      "image/png": "[encoded data removed]",
      "text/plain": [
       "<Figure size 1000x600 with 1 Axes>"
      ]
     },
     "metadata": {},
     "output_type": "display_data"
    }
   ],
   "source": [
    "plt.figure(figsize=(10,6))\n",
    "sns.regplot(data = df, y = \"High\", x =\"Volume\", color = \"b\").set(title = \"High vs Volume\")"
   ]
  },
  {
   "cell_type": "code",
   "execution_count": null,
   "id": "2886a97e",
   "metadata": {},
   "outputs": [],
   "source": []
  },
  {
   "cell_type": "code",
   "execution_count": null,
   "id": "7b7f3128",
   "metadata": {},
   "outputs": [],
   "source": []
  }
 ],
 "metadata": {
  "kernelspec": {
   "display_name": "Python 3 (ipykernel)",
   "language": "python",
   "name": "python3"
  },
  "language_info": {
   "codemirror_mode": {
    "name": "ipython",
    "version": 3
   },
   "file_extension": ".py",
   "mimetype": "text/x-python",
   "name": "python",
   "nbconvert_exporter": "python",
   "pygments_lexer": "ipython3",
   "version": "3.10.11"
  }
 },
 "nbformat": 4,
 "nbformat_minor": 5
}
